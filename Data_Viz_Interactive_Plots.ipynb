{
  "nbformat": 4,
  "nbformat_minor": 0,
  "metadata": {
    "colab": {
      "provenance": [],
      "include_colab_link": true
    },
    "kernelspec": {
      "name": "python3",
      "display_name": "Python 3"
    },
    "language_info": {
      "name": "python"
    },
    "widgets": {
      "application/vnd.jupyter.widget-state+json": {
        "4d4bfc88ac104c25ae1dc9a62f00ae2e": {
          "model_module": "@jupyter-widgets/controls",
          "model_name": "VBoxModel",
          "state": {
            "_view_name": "VBoxView",
            "_dom_classes": [
              "widget-interact"
            ],
            "_model_name": "VBoxModel",
            "_view_module": "@jupyter-widgets/controls",
            "_model_module_version": "1.5.0",
            "_view_count": null,
            "_view_module_version": "1.5.0",
            "box_style": "",
            "layout": "IPY_MODEL_2913f502dcbe4cdaa8a01f932780d4e6",
            "_model_module": "@jupyter-widgets/controls",
            "children": [
              "IPY_MODEL_aa9c69078a8e43dd9d2ac84a1a1dd33d",
              "IPY_MODEL_f3a68ef97e794f41b64071e525c16d1f"
            ]
          },
          "model_module_version": "1.5.0"
        },
        "2913f502dcbe4cdaa8a01f932780d4e6": {
          "model_module": "@jupyter-widgets/base",
          "model_name": "LayoutModel",
          "state": {
            "_view_name": "LayoutView",
            "grid_template_rows": null,
            "right": null,
            "justify_content": null,
            "_view_module": "@jupyter-widgets/base",
            "overflow": null,
            "_model_module_version": "1.2.0",
            "_view_count": null,
            "flex_flow": null,
            "width": null,
            "min_width": null,
            "border": null,
            "align_items": null,
            "bottom": null,
            "_model_module": "@jupyter-widgets/base",
            "top": null,
            "grid_column": null,
            "overflow_y": null,
            "overflow_x": null,
            "grid_auto_flow": null,
            "grid_area": null,
            "grid_template_columns": null,
            "flex": null,
            "_model_name": "LayoutModel",
            "justify_items": null,
            "grid_row": null,
            "max_height": null,
            "align_content": null,
            "visibility": null,
            "align_self": null,
            "height": null,
            "min_height": null,
            "padding": null,
            "grid_auto_rows": null,
            "grid_gap": null,
            "max_width": null,
            "order": null,
            "_view_module_version": "1.2.0",
            "grid_template_areas": null,
            "object_position": null,
            "object_fit": null,
            "grid_auto_columns": null,
            "margin": null,
            "display": null,
            "left": null
          },
          "model_module_version": "1.2.0"
        },
        "aa9c69078a8e43dd9d2ac84a1a1dd33d": {
          "model_module": "@jupyter-widgets/controls",
          "model_name": "FloatSliderModel",
          "state": {
            "_view_name": "FloatSliderView",
            "style": "IPY_MODEL_d1e11594b6e24c4ca609fb95b69094e6",
            "_dom_classes": [],
            "description": "x",
            "step": 0.5,
            "_model_name": "FloatSliderModel",
            "orientation": "horizontal",
            "max": 10,
            "_view_module": "@jupyter-widgets/controls",
            "_model_module_version": "1.5.0",
            "value": -3.5,
            "_view_count": null,
            "disabled": false,
            "_view_module_version": "1.5.0",
            "min": -5,
            "continuous_update": true,
            "readout_format": ".2f",
            "description_tooltip": null,
            "readout": true,
            "_model_module": "@jupyter-widgets/controls",
            "layout": "IPY_MODEL_9c55cd9c900d4e7db8dc12b6b8394176"
          },
          "model_module_version": "1.5.0"
        },
        "f3a68ef97e794f41b64071e525c16d1f": {
          "model_module": "@jupyter-widgets/output",
          "model_name": "OutputModel",
          "state": {
            "_view_name": "OutputView",
            "msg_id": "",
            "_dom_classes": [],
            "_model_name": "OutputModel",
            "outputs": [
              {
                "output_type": "display_data",
                "metadata": {
                  "tags": [],
                  "needs_background": "light"
                },
                "image/png": "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\n",
                "text/plain": "<Figure size 432x288 with 1 Axes>"
              }
            ],
            "_view_module": "@jupyter-widgets/output",
            "_model_module_version": "1.0.0",
            "_view_count": null,
            "_view_module_version": "1.0.0",
            "layout": "IPY_MODEL_0ae2de9ac168489488829d7fc6ed71db",
            "_model_module": "@jupyter-widgets/output"
          },
          "model_module_version": "1.0.0"
        },
        "d1e11594b6e24c4ca609fb95b69094e6": {
          "model_module": "@jupyter-widgets/controls",
          "model_name": "SliderStyleModel",
          "state": {
            "_view_name": "StyleView",
            "handle_color": null,
            "_model_name": "SliderStyleModel",
            "description_width": "",
            "_view_module": "@jupyter-widgets/base",
            "_model_module_version": "1.5.0",
            "_view_count": null,
            "_view_module_version": "1.2.0",
            "_model_module": "@jupyter-widgets/controls"
          },
          "model_module_version": "1.5.0"
        },
        "9c55cd9c900d4e7db8dc12b6b8394176": {
          "model_module": "@jupyter-widgets/base",
          "model_name": "LayoutModel",
          "state": {
            "_view_name": "LayoutView",
            "grid_template_rows": null,
            "right": null,
            "justify_content": null,
            "_view_module": "@jupyter-widgets/base",
            "overflow": null,
            "_model_module_version": "1.2.0",
            "_view_count": null,
            "flex_flow": null,
            "width": null,
            "min_width": null,
            "border": null,
            "align_items": null,
            "bottom": null,
            "_model_module": "@jupyter-widgets/base",
            "top": null,
            "grid_column": null,
            "overflow_y": null,
            "overflow_x": null,
            "grid_auto_flow": null,
            "grid_area": null,
            "grid_template_columns": null,
            "flex": null,
            "_model_name": "LayoutModel",
            "justify_items": null,
            "grid_row": null,
            "max_height": null,
            "align_content": null,
            "visibility": null,
            "align_self": null,
            "height": null,
            "min_height": null,
            "padding": null,
            "grid_auto_rows": null,
            "grid_gap": null,
            "max_width": null,
            "order": null,
            "_view_module_version": "1.2.0",
            "grid_template_areas": null,
            "object_position": null,
            "object_fit": null,
            "grid_auto_columns": null,
            "margin": null,
            "display": null,
            "left": null
          },
          "model_module_version": "1.2.0"
        },
        "0ae2de9ac168489488829d7fc6ed71db": {
          "model_module": "@jupyter-widgets/base",
          "model_name": "LayoutModel",
          "state": {
            "_view_name": "LayoutView",
            "grid_template_rows": null,
            "right": null,
            "justify_content": null,
            "_view_module": "@jupyter-widgets/base",
            "overflow": null,
            "_model_module_version": "1.2.0",
            "_view_count": null,
            "flex_flow": null,
            "width": null,
            "min_width": null,
            "border": null,
            "align_items": null,
            "bottom": null,
            "_model_module": "@jupyter-widgets/base",
            "top": null,
            "grid_column": null,
            "overflow_y": null,
            "overflow_x": null,
            "grid_auto_flow": null,
            "grid_area": null,
            "grid_template_columns": null,
            "flex": null,
            "_model_name": "LayoutModel",
            "justify_items": null,
            "grid_row": null,
            "max_height": null,
            "align_content": null,
            "visibility": null,
            "align_self": null,
            "height": null,
            "min_height": null,
            "padding": null,
            "grid_auto_rows": null,
            "grid_gap": null,
            "max_width": null,
            "order": null,
            "_view_module_version": "1.2.0",
            "grid_template_areas": null,
            "object_position": null,
            "object_fit": null,
            "grid_auto_columns": null,
            "margin": null,
            "display": null,
            "left": null
          },
          "model_module_version": "1.2.0"
        },
        "c9b3e2ea2a5e41f8870e82e91a6e163d": {
          "model_module": "@jupyter-widgets/controls",
          "model_name": "VBoxModel",
          "state": {
            "_view_name": "VBoxView",
            "_dom_classes": [
              "widget-interact"
            ],
            "_model_name": "VBoxModel",
            "_view_module": "@jupyter-widgets/controls",
            "_model_module_version": "1.5.0",
            "_view_count": null,
            "_view_module_version": "1.5.0",
            "box_style": "",
            "layout": "IPY_MODEL_fb689bbaebf54cc398ec630573964e8d",
            "_model_module": "@jupyter-widgets/controls",
            "children": [
              "IPY_MODEL_dff5a9ac8d5440f9b1bb040d0257d40b",
              "IPY_MODEL_d9ae5ac83774444e87c42b102d7aa54d"
            ]
          },
          "model_module_version": "1.5.0"
        },
        "fb689bbaebf54cc398ec630573964e8d": {
          "model_module": "@jupyter-widgets/base",
          "model_name": "LayoutModel",
          "state": {
            "_view_name": "LayoutView",
            "grid_template_rows": null,
            "right": null,
            "justify_content": null,
            "_view_module": "@jupyter-widgets/base",
            "overflow": null,
            "_model_module_version": "1.2.0",
            "_view_count": null,
            "flex_flow": null,
            "width": null,
            "min_width": null,
            "border": null,
            "align_items": null,
            "bottom": null,
            "_model_module": "@jupyter-widgets/base",
            "top": null,
            "grid_column": null,
            "overflow_y": null,
            "overflow_x": null,
            "grid_auto_flow": null,
            "grid_area": null,
            "grid_template_columns": null,
            "flex": null,
            "_model_name": "LayoutModel",
            "justify_items": null,
            "grid_row": null,
            "max_height": null,
            "align_content": null,
            "visibility": null,
            "align_self": null,
            "height": null,
            "min_height": null,
            "padding": null,
            "grid_auto_rows": null,
            "grid_gap": null,
            "max_width": null,
            "order": null,
            "_view_module_version": "1.2.0",
            "grid_template_areas": null,
            "object_position": null,
            "object_fit": null,
            "grid_auto_columns": null,
            "margin": null,
            "display": null,
            "left": null
          },
          "model_module_version": "1.2.0"
        },
        "dff5a9ac8d5440f9b1bb040d0257d40b": {
          "model_module": "@jupyter-widgets/controls",
          "model_name": "CheckboxModel",
          "state": {
            "_view_name": "CheckboxView",
            "style": "IPY_MODEL_a8bea43e993645b5a6de11136eae9b73",
            "_dom_classes": [],
            "description": "x",
            "_model_name": "CheckboxModel",
            "_view_module": "@jupyter-widgets/controls",
            "_model_module_version": "1.5.0",
            "value": false,
            "_view_count": null,
            "disabled": false,
            "_view_module_version": "1.5.0",
            "indent": true,
            "description_tooltip": null,
            "_model_module": "@jupyter-widgets/controls",
            "layout": "IPY_MODEL_b35a66bbb2004b99a72b44fce45253f5"
          },
          "model_module_version": "1.5.0"
        },
        "d9ae5ac83774444e87c42b102d7aa54d": {
          "model_module": "@jupyter-widgets/output",
          "model_name": "OutputModel",
          "state": {
            "_view_name": "OutputView",
            "msg_id": "",
            "_dom_classes": [],
            "_model_name": "OutputModel",
            "outputs": [
              {
                "output_type": "display_data",
                "metadata": {
                  "tags": [],
                  "needs_background": "light"
                },
                "image/png": "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\n",
                "text/plain": "<Figure size 432x288 with 1 Axes>"
              }
            ],
            "_view_module": "@jupyter-widgets/output",
            "_model_module_version": "1.0.0",
            "_view_count": null,
            "_view_module_version": "1.0.0",
            "layout": "IPY_MODEL_c4fa6c93786b474987eb47992f564b5d",
            "_model_module": "@jupyter-widgets/output"
          },
          "model_module_version": "1.0.0"
        },
        "a8bea43e993645b5a6de11136eae9b73": {
          "model_module": "@jupyter-widgets/controls",
          "model_name": "DescriptionStyleModel",
          "state": {
            "_view_name": "StyleView",
            "_model_name": "DescriptionStyleModel",
            "description_width": "",
            "_view_module": "@jupyter-widgets/base",
            "_model_module_version": "1.5.0",
            "_view_count": null,
            "_view_module_version": "1.2.0",
            "_model_module": "@jupyter-widgets/controls"
          },
          "model_module_version": "1.5.0"
        },
        "b35a66bbb2004b99a72b44fce45253f5": {
          "model_module": "@jupyter-widgets/base",
          "model_name": "LayoutModel",
          "state": {
            "_view_name": "LayoutView",
            "grid_template_rows": null,
            "right": null,
            "justify_content": null,
            "_view_module": "@jupyter-widgets/base",
            "overflow": null,
            "_model_module_version": "1.2.0",
            "_view_count": null,
            "flex_flow": null,
            "width": null,
            "min_width": null,
            "border": null,
            "align_items": null,
            "bottom": null,
            "_model_module": "@jupyter-widgets/base",
            "top": null,
            "grid_column": null,
            "overflow_y": null,
            "overflow_x": null,
            "grid_auto_flow": null,
            "grid_area": null,
            "grid_template_columns": null,
            "flex": null,
            "_model_name": "LayoutModel",
            "justify_items": null,
            "grid_row": null,
            "max_height": null,
            "align_content": null,
            "visibility": null,
            "align_self": null,
            "height": null,
            "min_height": null,
            "padding": null,
            "grid_auto_rows": null,
            "grid_gap": null,
            "max_width": null,
            "order": null,
            "_view_module_version": "1.2.0",
            "grid_template_areas": null,
            "object_position": null,
            "object_fit": null,
            "grid_auto_columns": null,
            "margin": null,
            "display": null,
            "left": null
          },
          "model_module_version": "1.2.0"
        },
        "c4fa6c93786b474987eb47992f564b5d": {
          "model_module": "@jupyter-widgets/base",
          "model_name": "LayoutModel",
          "state": {
            "_view_name": "LayoutView",
            "grid_template_rows": null,
            "right": null,
            "justify_content": null,
            "_view_module": "@jupyter-widgets/base",
            "overflow": null,
            "_model_module_version": "1.2.0",
            "_view_count": null,
            "flex_flow": null,
            "width": null,
            "min_width": null,
            "border": null,
            "align_items": null,
            "bottom": null,
            "_model_module": "@jupyter-widgets/base",
            "top": null,
            "grid_column": null,
            "overflow_y": null,
            "overflow_x": null,
            "grid_auto_flow": null,
            "grid_area": null,
            "grid_template_columns": null,
            "flex": null,
            "_model_name": "LayoutModel",
            "justify_items": null,
            "grid_row": null,
            "max_height": null,
            "align_content": null,
            "visibility": null,
            "align_self": null,
            "height": null,
            "min_height": null,
            "padding": null,
            "grid_auto_rows": null,
            "grid_gap": null,
            "max_width": null,
            "order": null,
            "_view_module_version": "1.2.0",
            "grid_template_areas": null,
            "object_position": null,
            "object_fit": null,
            "grid_auto_columns": null,
            "margin": null,
            "display": null,
            "left": null
          },
          "model_module_version": "1.2.0"
        },
        "934e2a112ee24009bf06d407bac99b1a": {
          "model_module": "@jupyter-widgets/controls",
          "model_name": "VBoxModel",
          "state": {
            "_view_name": "VBoxView",
            "_dom_classes": [
              "widget-interact"
            ],
            "_model_name": "VBoxModel",
            "_view_module": "@jupyter-widgets/controls",
            "_model_module_version": "1.5.0",
            "_view_count": null,
            "_view_module_version": "1.5.0",
            "box_style": "",
            "layout": "IPY_MODEL_2aeefec669784949905285328da40591",
            "_model_module": "@jupyter-widgets/controls",
            "children": [
              "IPY_MODEL_a37ef49af585484f8e9630b63c37f9fa",
              "IPY_MODEL_c3d380fd2f3a450da096c3482ead7ed6"
            ]
          },
          "model_module_version": "1.5.0"
        },
        "2aeefec669784949905285328da40591": {
          "model_module": "@jupyter-widgets/base",
          "model_name": "LayoutModel",
          "state": {
            "_view_name": "LayoutView",
            "grid_template_rows": null,
            "right": null,
            "justify_content": null,
            "_view_module": "@jupyter-widgets/base",
            "overflow": null,
            "_model_module_version": "1.2.0",
            "_view_count": null,
            "flex_flow": null,
            "width": null,
            "min_width": null,
            "border": null,
            "align_items": null,
            "bottom": null,
            "_model_module": "@jupyter-widgets/base",
            "top": null,
            "grid_column": null,
            "overflow_y": null,
            "overflow_x": null,
            "grid_auto_flow": null,
            "grid_area": null,
            "grid_template_columns": null,
            "flex": null,
            "_model_name": "LayoutModel",
            "justify_items": null,
            "grid_row": null,
            "max_height": null,
            "align_content": null,
            "visibility": null,
            "align_self": null,
            "height": null,
            "min_height": null,
            "padding": null,
            "grid_auto_rows": null,
            "grid_gap": null,
            "max_width": null,
            "order": null,
            "_view_module_version": "1.2.0",
            "grid_template_areas": null,
            "object_position": null,
            "object_fit": null,
            "grid_auto_columns": null,
            "margin": null,
            "display": null,
            "left": null
          },
          "model_module_version": "1.2.0"
        },
        "a37ef49af585484f8e9630b63c37f9fa": {
          "model_module": "@jupyter-widgets/controls",
          "model_name": "TextModel",
          "state": {
            "_view_name": "TextView",
            "style": "IPY_MODEL_5eb4fc1db7b04389bfca203881607fad",
            "_dom_classes": [],
            "description": "x",
            "_model_name": "TextModel",
            "placeholder": "​",
            "_view_module": "@jupyter-widgets/controls",
            "_model_module_version": "1.5.0",
            "value": "Sigmoidal",
            "_view_count": null,
            "disabled": false,
            "_view_module_version": "1.5.0",
            "continuous_update": true,
            "description_tooltip": null,
            "_model_module": "@jupyter-widgets/controls",
            "layout": "IPY_MODEL_7e6df0644a07482098c9d66f2bc0d5e4"
          },
          "model_module_version": "1.5.0"
        },
        "c3d380fd2f3a450da096c3482ead7ed6": {
          "model_module": "@jupyter-widgets/output",
          "model_name": "OutputModel",
          "state": {
            "_view_name": "OutputView",
            "msg_id": "",
            "_dom_classes": [],
            "_model_name": "OutputModel",
            "outputs": [
              {
                "output_type": "display_data",
                "metadata": {
                  "tags": [],
                  "needs_background": "light"
                },
                "image/png": "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\n",
                "text/plain": "<Figure size 432x288 with 1 Axes>"
              }
            ],
            "_view_module": "@jupyter-widgets/output",
            "_model_module_version": "1.0.0",
            "_view_count": null,
            "_view_module_version": "1.0.0",
            "layout": "IPY_MODEL_68183f3654114171906042ddd2284485",
            "_model_module": "@jupyter-widgets/output"
          },
          "model_module_version": "1.0.0"
        },
        "5eb4fc1db7b04389bfca203881607fad": {
          "model_module": "@jupyter-widgets/controls",
          "model_name": "DescriptionStyleModel",
          "state": {
            "_view_name": "StyleView",
            "_model_name": "DescriptionStyleModel",
            "description_width": "",
            "_view_module": "@jupyter-widgets/base",
            "_model_module_version": "1.5.0",
            "_view_count": null,
            "_view_module_version": "1.2.0",
            "_model_module": "@jupyter-widgets/controls"
          },
          "model_module_version": "1.5.0"
        },
        "7e6df0644a07482098c9d66f2bc0d5e4": {
          "model_module": "@jupyter-widgets/base",
          "model_name": "LayoutModel",
          "state": {
            "_view_name": "LayoutView",
            "grid_template_rows": null,
            "right": null,
            "justify_content": null,
            "_view_module": "@jupyter-widgets/base",
            "overflow": null,
            "_model_module_version": "1.2.0",
            "_view_count": null,
            "flex_flow": null,
            "width": null,
            "min_width": null,
            "border": null,
            "align_items": null,
            "bottom": null,
            "_model_module": "@jupyter-widgets/base",
            "top": null,
            "grid_column": null,
            "overflow_y": null,
            "overflow_x": null,
            "grid_auto_flow": null,
            "grid_area": null,
            "grid_template_columns": null,
            "flex": null,
            "_model_name": "LayoutModel",
            "justify_items": null,
            "grid_row": null,
            "max_height": null,
            "align_content": null,
            "visibility": null,
            "align_self": null,
            "height": null,
            "min_height": null,
            "padding": null,
            "grid_auto_rows": null,
            "grid_gap": null,
            "max_width": null,
            "order": null,
            "_view_module_version": "1.2.0",
            "grid_template_areas": null,
            "object_position": null,
            "object_fit": null,
            "grid_auto_columns": null,
            "margin": null,
            "display": null,
            "left": null
          },
          "model_module_version": "1.2.0"
        },
        "68183f3654114171906042ddd2284485": {
          "model_module": "@jupyter-widgets/base",
          "model_name": "LayoutModel",
          "state": {
            "_view_name": "LayoutView",
            "grid_template_rows": null,
            "right": null,
            "justify_content": null,
            "_view_module": "@jupyter-widgets/base",
            "overflow": null,
            "_model_module_version": "1.2.0",
            "_view_count": null,
            "flex_flow": null,
            "width": null,
            "min_width": null,
            "border": null,
            "align_items": null,
            "bottom": null,
            "_model_module": "@jupyter-widgets/base",
            "top": null,
            "grid_column": null,
            "overflow_y": null,
            "overflow_x": null,
            "grid_auto_flow": null,
            "grid_area": null,
            "grid_template_columns": null,
            "flex": null,
            "_model_name": "LayoutModel",
            "justify_items": null,
            "grid_row": null,
            "max_height": null,
            "align_content": null,
            "visibility": null,
            "align_self": null,
            "height": null,
            "min_height": null,
            "padding": null,
            "grid_auto_rows": null,
            "grid_gap": null,
            "max_width": null,
            "order": null,
            "_view_module_version": "1.2.0",
            "grid_template_areas": null,
            "object_position": null,
            "object_fit": null,
            "grid_auto_columns": null,
            "margin": null,
            "display": null,
            "left": null
          },
          "model_module_version": "1.2.0"
        },
        "6545caafbc654d95ac3a3a6a54c73368": {
          "model_module": "@jupyter-widgets/controls",
          "model_name": "VBoxModel",
          "state": {
            "_view_name": "VBoxView",
            "_dom_classes": [
              "widget-interact"
            ],
            "_model_name": "VBoxModel",
            "_view_module": "@jupyter-widgets/controls",
            "_model_module_version": "1.5.0",
            "_view_count": null,
            "_view_module_version": "1.5.0",
            "box_style": "",
            "layout": "IPY_MODEL_6e006c07cce2487d91a6b11d9eb4d47a",
            "_model_module": "@jupyter-widgets/controls",
            "children": [
              "IPY_MODEL_2d6c453b167146cbbcff2fcce65404ae",
              "IPY_MODEL_555aded0bdaf40a89cac93059ff75b6c",
              "IPY_MODEL_18ab8f05c71544018d86535acbe65153"
            ]
          },
          "model_module_version": "1.5.0"
        },
        "6e006c07cce2487d91a6b11d9eb4d47a": {
          "model_module": "@jupyter-widgets/base",
          "model_name": "LayoutModel",
          "state": {
            "_view_name": "LayoutView",
            "grid_template_rows": null,
            "right": null,
            "justify_content": null,
            "_view_module": "@jupyter-widgets/base",
            "overflow": null,
            "_model_module_version": "1.2.0",
            "_view_count": null,
            "flex_flow": null,
            "width": null,
            "min_width": null,
            "border": null,
            "align_items": null,
            "bottom": null,
            "_model_module": "@jupyter-widgets/base",
            "top": null,
            "grid_column": null,
            "overflow_y": null,
            "overflow_x": null,
            "grid_auto_flow": null,
            "grid_area": null,
            "grid_template_columns": null,
            "flex": null,
            "_model_name": "LayoutModel",
            "justify_items": null,
            "grid_row": null,
            "max_height": null,
            "align_content": null,
            "visibility": null,
            "align_self": null,
            "height": null,
            "min_height": null,
            "padding": null,
            "grid_auto_rows": null,
            "grid_gap": null,
            "max_width": null,
            "order": null,
            "_view_module_version": "1.2.0",
            "grid_template_areas": null,
            "object_position": null,
            "object_fit": null,
            "grid_auto_columns": null,
            "margin": null,
            "display": null,
            "left": null
          },
          "model_module_version": "1.2.0"
        },
        "2d6c453b167146cbbcff2fcce65404ae": {
          "model_module": "@jupyter-widgets/controls",
          "model_name": "IntSliderModel",
          "state": {
            "_view_name": "IntSliderView",
            "style": "IPY_MODEL_6e9d18fd86e445da8fce1fa198a11b9e",
            "_dom_classes": [],
            "description": "a",
            "step": 1,
            "_model_name": "IntSliderModel",
            "orientation": "horizontal",
            "max": 3,
            "_view_module": "@jupyter-widgets/controls",
            "_model_module_version": "1.5.0",
            "value": -1,
            "_view_count": null,
            "disabled": false,
            "_view_module_version": "1.5.0",
            "min": -1,
            "continuous_update": true,
            "readout_format": "d",
            "description_tooltip": null,
            "readout": true,
            "_model_module": "@jupyter-widgets/controls",
            "layout": "IPY_MODEL_cb69abf6c7264fa384d5ef01b863379b"
          },
          "model_module_version": "1.5.0"
        },
        "555aded0bdaf40a89cac93059ff75b6c": {
          "model_module": "@jupyter-widgets/controls",
          "model_name": "IntSliderModel",
          "state": {
            "_view_name": "IntSliderView",
            "style": "IPY_MODEL_0adfa7a6e1234e5da842a0173ff301cc",
            "_dom_classes": [],
            "description": "b",
            "step": 1,
            "_model_name": "IntSliderModel",
            "orientation": "horizontal",
            "max": 9,
            "_view_module": "@jupyter-widgets/controls",
            "_model_module_version": "1.5.0",
            "value": 5,
            "_view_count": null,
            "disabled": false,
            "_view_module_version": "1.5.0",
            "min": -3,
            "continuous_update": true,
            "readout_format": "d",
            "description_tooltip": null,
            "readout": true,
            "_model_module": "@jupyter-widgets/controls",
            "layout": "IPY_MODEL_4ee3ee7b0479499797d6b41e7135737c"
          },
          "model_module_version": "1.5.0"
        },
        "18ab8f05c71544018d86535acbe65153": {
          "model_module": "@jupyter-widgets/output",
          "model_name": "OutputModel",
          "state": {
            "_view_name": "OutputView",
            "msg_id": "",
            "_dom_classes": [],
            "_model_name": "OutputModel",
            "outputs": [
              {
                "output_type": "display_data",
                "metadata": {
                  "tags": [],
                  "needs_background": "light"
                },
                "image/png": "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\n",
                "text/plain": "<Figure size 432x288 with 1 Axes>"
              }
            ],
            "_view_module": "@jupyter-widgets/output",
            "_model_module_version": "1.0.0",
            "_view_count": null,
            "_view_module_version": "1.0.0",
            "layout": "IPY_MODEL_a80a1b5d7d1d4b03b97249f321b7483c",
            "_model_module": "@jupyter-widgets/output"
          },
          "model_module_version": "1.0.0"
        },
        "6e9d18fd86e445da8fce1fa198a11b9e": {
          "model_module": "@jupyter-widgets/controls",
          "model_name": "SliderStyleModel",
          "state": {
            "_view_name": "StyleView",
            "handle_color": null,
            "_model_name": "SliderStyleModel",
            "description_width": "",
            "_view_module": "@jupyter-widgets/base",
            "_model_module_version": "1.5.0",
            "_view_count": null,
            "_view_module_version": "1.2.0",
            "_model_module": "@jupyter-widgets/controls"
          },
          "model_module_version": "1.5.0"
        },
        "cb69abf6c7264fa384d5ef01b863379b": {
          "model_module": "@jupyter-widgets/base",
          "model_name": "LayoutModel",
          "state": {
            "_view_name": "LayoutView",
            "grid_template_rows": null,
            "right": null,
            "justify_content": null,
            "_view_module": "@jupyter-widgets/base",
            "overflow": null,
            "_model_module_version": "1.2.0",
            "_view_count": null,
            "flex_flow": null,
            "width": null,
            "min_width": null,
            "border": null,
            "align_items": null,
            "bottom": null,
            "_model_module": "@jupyter-widgets/base",
            "top": null,
            "grid_column": null,
            "overflow_y": null,
            "overflow_x": null,
            "grid_auto_flow": null,
            "grid_area": null,
            "grid_template_columns": null,
            "flex": null,
            "_model_name": "LayoutModel",
            "justify_items": null,
            "grid_row": null,
            "max_height": null,
            "align_content": null,
            "visibility": null,
            "align_self": null,
            "height": null,
            "min_height": null,
            "padding": null,
            "grid_auto_rows": null,
            "grid_gap": null,
            "max_width": null,
            "order": null,
            "_view_module_version": "1.2.0",
            "grid_template_areas": null,
            "object_position": null,
            "object_fit": null,
            "grid_auto_columns": null,
            "margin": null,
            "display": null,
            "left": null
          },
          "model_module_version": "1.2.0"
        },
        "0adfa7a6e1234e5da842a0173ff301cc": {
          "model_module": "@jupyter-widgets/controls",
          "model_name": "SliderStyleModel",
          "state": {
            "_view_name": "StyleView",
            "handle_color": null,
            "_model_name": "SliderStyleModel",
            "description_width": "",
            "_view_module": "@jupyter-widgets/base",
            "_model_module_version": "1.5.0",
            "_view_count": null,
            "_view_module_version": "1.2.0",
            "_model_module": "@jupyter-widgets/controls"
          },
          "model_module_version": "1.5.0"
        },
        "4ee3ee7b0479499797d6b41e7135737c": {
          "model_module": "@jupyter-widgets/base",
          "model_name": "LayoutModel",
          "state": {
            "_view_name": "LayoutView",
            "grid_template_rows": null,
            "right": null,
            "justify_content": null,
            "_view_module": "@jupyter-widgets/base",
            "overflow": null,
            "_model_module_version": "1.2.0",
            "_view_count": null,
            "flex_flow": null,
            "width": null,
            "min_width": null,
            "border": null,
            "align_items": null,
            "bottom": null,
            "_model_module": "@jupyter-widgets/base",
            "top": null,
            "grid_column": null,
            "overflow_y": null,
            "overflow_x": null,
            "grid_auto_flow": null,
            "grid_area": null,
            "grid_template_columns": null,
            "flex": null,
            "_model_name": "LayoutModel",
            "justify_items": null,
            "grid_row": null,
            "max_height": null,
            "align_content": null,
            "visibility": null,
            "align_self": null,
            "height": null,
            "min_height": null,
            "padding": null,
            "grid_auto_rows": null,
            "grid_gap": null,
            "max_width": null,
            "order": null,
            "_view_module_version": "1.2.0",
            "grid_template_areas": null,
            "object_position": null,
            "object_fit": null,
            "grid_auto_columns": null,
            "margin": null,
            "display": null,
            "left": null
          },
          "model_module_version": "1.2.0"
        },
        "a80a1b5d7d1d4b03b97249f321b7483c": {
          "model_module": "@jupyter-widgets/base",
          "model_name": "LayoutModel",
          "state": {
            "_view_name": "LayoutView",
            "grid_template_rows": null,
            "right": null,
            "justify_content": null,
            "_view_module": "@jupyter-widgets/base",
            "overflow": null,
            "_model_module_version": "1.2.0",
            "_view_count": null,
            "flex_flow": null,
            "width": null,
            "min_width": null,
            "border": null,
            "align_items": null,
            "bottom": null,
            "_model_module": "@jupyter-widgets/base",
            "top": null,
            "grid_column": null,
            "overflow_y": null,
            "overflow_x": null,
            "grid_auto_flow": null,
            "grid_area": null,
            "grid_template_columns": null,
            "flex": null,
            "_model_name": "LayoutModel",
            "justify_items": null,
            "grid_row": null,
            "max_height": null,
            "align_content": null,
            "visibility": null,
            "align_self": null,
            "height": null,
            "min_height": null,
            "padding": null,
            "grid_auto_rows": null,
            "grid_gap": null,
            "max_width": null,
            "order": null,
            "_view_module_version": "1.2.0",
            "grid_template_areas": null,
            "object_position": null,
            "object_fit": null,
            "grid_auto_columns": null,
            "margin": null,
            "display": null,
            "left": null
          },
          "model_module_version": "1.2.0"
        },
        "dc9cd3a65a7c43bf8f440f93185dc2eb": {
          "model_module": "@jupyter-widgets/controls",
          "model_name": "VBoxModel",
          "state": {
            "_view_name": "VBoxView",
            "_dom_classes": [
              "widget-interact"
            ],
            "_model_name": "VBoxModel",
            "_view_module": "@jupyter-widgets/controls",
            "_model_module_version": "1.5.0",
            "_view_count": null,
            "_view_module_version": "1.5.0",
            "box_style": "",
            "layout": "IPY_MODEL_d5666809748e46c59473976701ed83f1",
            "_model_module": "@jupyter-widgets/controls",
            "children": [
              "IPY_MODEL_7f77094c646e4daeae3fe0e1e8e6299d",
              "IPY_MODEL_8540822b1473498e88af36a996695b3e"
            ]
          },
          "model_module_version": "1.5.0"
        },
        "d5666809748e46c59473976701ed83f1": {
          "model_module": "@jupyter-widgets/base",
          "model_name": "LayoutModel",
          "state": {
            "_view_name": "LayoutView",
            "grid_template_rows": null,
            "right": null,
            "justify_content": null,
            "_view_module": "@jupyter-widgets/base",
            "overflow": null,
            "_model_module_version": "1.2.0",
            "_view_count": null,
            "flex_flow": null,
            "width": null,
            "min_width": null,
            "border": null,
            "align_items": null,
            "bottom": null,
            "_model_module": "@jupyter-widgets/base",
            "top": null,
            "grid_column": null,
            "overflow_y": null,
            "overflow_x": null,
            "grid_auto_flow": null,
            "grid_area": null,
            "grid_template_columns": null,
            "flex": null,
            "_model_name": "LayoutModel",
            "justify_items": null,
            "grid_row": null,
            "max_height": null,
            "align_content": null,
            "visibility": null,
            "align_self": null,
            "height": null,
            "min_height": null,
            "padding": null,
            "grid_auto_rows": null,
            "grid_gap": null,
            "max_width": null,
            "order": null,
            "_view_module_version": "1.2.0",
            "grid_template_areas": null,
            "object_position": null,
            "object_fit": null,
            "grid_auto_columns": null,
            "margin": null,
            "display": null,
            "left": null
          },
          "model_module_version": "1.2.0"
        },
        "7f77094c646e4daeae3fe0e1e8e6299d": {
          "model_module": "@jupyter-widgets/controls",
          "model_name": "IntSliderModel",
          "state": {
            "_view_name": "IntSliderView",
            "style": "IPY_MODEL_2177aa9bb83f4ce3a216fbd3f1f456e0",
            "_dom_classes": [],
            "description": "a",
            "step": 1,
            "_model_name": "IntSliderModel",
            "orientation": "horizontal",
            "max": 3,
            "_view_module": "@jupyter-widgets/controls",
            "_model_module_version": "1.5.0",
            "value": 0,
            "_view_count": null,
            "disabled": false,
            "_view_module_version": "1.5.0",
            "min": -1,
            "continuous_update": true,
            "readout_format": "d",
            "description_tooltip": null,
            "readout": true,
            "_model_module": "@jupyter-widgets/controls",
            "layout": "IPY_MODEL_1d48e6e24233453ca8c14000098c74b9"
          },
          "model_module_version": "1.5.0"
        },
        "8540822b1473498e88af36a996695b3e": {
          "model_module": "@jupyter-widgets/output",
          "model_name": "OutputModel",
          "state": {
            "_view_name": "OutputView",
            "msg_id": "",
            "_dom_classes": [],
            "_model_name": "OutputModel",
            "outputs": [
              {
                "output_type": "display_data",
                "metadata": {
                  "tags": [],
                  "needs_background": "light"
                },
                "image/png": "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\n",
                "text/plain": "<Figure size 432x288 with 1 Axes>"
              }
            ],
            "_view_module": "@jupyter-widgets/output",
            "_model_module_version": "1.0.0",
            "_view_count": null,
            "_view_module_version": "1.0.0",
            "layout": "IPY_MODEL_b7aafbc1eb084666834a75668cce0722",
            "_model_module": "@jupyter-widgets/output"
          },
          "model_module_version": "1.0.0"
        },
        "2177aa9bb83f4ce3a216fbd3f1f456e0": {
          "model_module": "@jupyter-widgets/controls",
          "model_name": "SliderStyleModel",
          "state": {
            "_view_name": "StyleView",
            "handle_color": null,
            "_model_name": "SliderStyleModel",
            "description_width": "",
            "_view_module": "@jupyter-widgets/base",
            "_model_module_version": "1.5.0",
            "_view_count": null,
            "_view_module_version": "1.2.0",
            "_model_module": "@jupyter-widgets/controls"
          },
          "model_module_version": "1.5.0"
        },
        "1d48e6e24233453ca8c14000098c74b9": {
          "model_module": "@jupyter-widgets/base",
          "model_name": "LayoutModel",
          "state": {
            "_view_name": "LayoutView",
            "grid_template_rows": null,
            "right": null,
            "justify_content": null,
            "_view_module": "@jupyter-widgets/base",
            "overflow": null,
            "_model_module_version": "1.2.0",
            "_view_count": null,
            "flex_flow": null,
            "width": null,
            "min_width": null,
            "border": null,
            "align_items": null,
            "bottom": null,
            "_model_module": "@jupyter-widgets/base",
            "top": null,
            "grid_column": null,
            "overflow_y": null,
            "overflow_x": null,
            "grid_auto_flow": null,
            "grid_area": null,
            "grid_template_columns": null,
            "flex": null,
            "_model_name": "LayoutModel",
            "justify_items": null,
            "grid_row": null,
            "max_height": null,
            "align_content": null,
            "visibility": null,
            "align_self": null,
            "height": null,
            "min_height": null,
            "padding": null,
            "grid_auto_rows": null,
            "grid_gap": null,
            "max_width": null,
            "order": null,
            "_view_module_version": "1.2.0",
            "grid_template_areas": null,
            "object_position": null,
            "object_fit": null,
            "grid_auto_columns": null,
            "margin": null,
            "display": null,
            "left": null
          },
          "model_module_version": "1.2.0"
        },
        "b7aafbc1eb084666834a75668cce0722": {
          "model_module": "@jupyter-widgets/base",
          "model_name": "LayoutModel",
          "state": {
            "_view_name": "LayoutView",
            "grid_template_rows": null,
            "right": null,
            "justify_content": null,
            "_view_module": "@jupyter-widgets/base",
            "overflow": null,
            "_model_module_version": "1.2.0",
            "_view_count": null,
            "flex_flow": null,
            "width": null,
            "min_width": null,
            "border": null,
            "align_items": null,
            "bottom": null,
            "_model_module": "@jupyter-widgets/base",
            "top": null,
            "grid_column": null,
            "overflow_y": null,
            "overflow_x": null,
            "grid_auto_flow": null,
            "grid_area": null,
            "grid_template_columns": null,
            "flex": null,
            "_model_name": "LayoutModel",
            "justify_items": null,
            "grid_row": null,
            "max_height": null,
            "align_content": null,
            "visibility": null,
            "align_self": null,
            "height": null,
            "min_height": null,
            "padding": null,
            "grid_auto_rows": null,
            "grid_gap": null,
            "max_width": null,
            "order": null,
            "_view_module_version": "1.2.0",
            "grid_template_areas": null,
            "object_position": null,
            "object_fit": null,
            "grid_auto_columns": null,
            "margin": null,
            "display": null,
            "left": null
          },
          "model_module_version": "1.2.0"
        },
        "739963b0c48140689cba80498007f544": {
          "model_module": "@jupyter-widgets/controls",
          "model_name": "VBoxModel",
          "state": {
            "_view_name": "VBoxView",
            "_dom_classes": [
              "widget-interact"
            ],
            "_model_name": "VBoxModel",
            "_view_module": "@jupyter-widgets/controls",
            "_model_module_version": "1.5.0",
            "_view_count": null,
            "_view_module_version": "1.5.0",
            "box_style": "",
            "layout": "IPY_MODEL_de2f607895bd4e1e87a8d613b1c10771",
            "_model_module": "@jupyter-widgets/controls",
            "children": [
              "IPY_MODEL_767cbe65b7ac4fdbb6704745c49f9954",
              "IPY_MODEL_7dfe9110aacc4dfbaff6986d0f69fa01"
            ]
          },
          "model_module_version": "1.5.0"
        },
        "de2f607895bd4e1e87a8d613b1c10771": {
          "model_module": "@jupyter-widgets/base",
          "model_name": "LayoutModel",
          "state": {
            "_view_name": "LayoutView",
            "grid_template_rows": null,
            "right": null,
            "justify_content": null,
            "_view_module": "@jupyter-widgets/base",
            "overflow": null,
            "_model_module_version": "1.2.0",
            "_view_count": null,
            "flex_flow": null,
            "width": null,
            "min_width": null,
            "border": null,
            "align_items": null,
            "bottom": null,
            "_model_module": "@jupyter-widgets/base",
            "top": null,
            "grid_column": null,
            "overflow_y": null,
            "overflow_x": null,
            "grid_auto_flow": null,
            "grid_area": null,
            "grid_template_columns": null,
            "flex": null,
            "_model_name": "LayoutModel",
            "justify_items": null,
            "grid_row": null,
            "max_height": null,
            "align_content": null,
            "visibility": null,
            "align_self": null,
            "height": null,
            "min_height": null,
            "padding": null,
            "grid_auto_rows": null,
            "grid_gap": null,
            "max_width": null,
            "order": null,
            "_view_module_version": "1.2.0",
            "grid_template_areas": null,
            "object_position": null,
            "object_fit": null,
            "grid_auto_columns": null,
            "margin": null,
            "display": null,
            "left": null
          },
          "model_module_version": "1.2.0"
        },
        "767cbe65b7ac4fdbb6704745c49f9954": {
          "model_module": "@jupyter-widgets/controls",
          "model_name": "IntSliderModel",
          "state": {
            "_view_name": "IntSliderView",
            "style": "IPY_MODEL_b9c4e7abf25f465085d0c9f311a420e7",
            "_dom_classes": [],
            "description": "a",
            "step": 1,
            "_model_name": "IntSliderModel",
            "orientation": "horizontal",
            "max": 3,
            "_view_module": "@jupyter-widgets/controls",
            "_model_module_version": "1.5.0",
            "value": 0,
            "_view_count": null,
            "disabled": false,
            "_view_module_version": "1.5.0",
            "min": -1,
            "continuous_update": true,
            "readout_format": "d",
            "description_tooltip": null,
            "readout": true,
            "_model_module": "@jupyter-widgets/controls",
            "layout": "IPY_MODEL_a8e9700ab99247979d2d2bae4a395740"
          },
          "model_module_version": "1.5.0"
        },
        "7dfe9110aacc4dfbaff6986d0f69fa01": {
          "model_module": "@jupyter-widgets/output",
          "model_name": "OutputModel",
          "state": {
            "_view_name": "OutputView",
            "msg_id": "",
            "_dom_classes": [],
            "_model_name": "OutputModel",
            "outputs": [
              {
                "output_type": "display_data",
                "metadata": {
                  "tags": [],
                  "needs_background": "light"
                },
                "image/png": "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\n",
                "text/plain": "<Figure size 432x288 with 1 Axes>"
              }
            ],
            "_view_module": "@jupyter-widgets/output",
            "_model_module_version": "1.0.0",
            "_view_count": null,
            "_view_module_version": "1.0.0",
            "layout": "IPY_MODEL_41226efc93d94fb6b99bf7a758e75ddd",
            "_model_module": "@jupyter-widgets/output"
          },
          "model_module_version": "1.0.0"
        },
        "b9c4e7abf25f465085d0c9f311a420e7": {
          "model_module": "@jupyter-widgets/controls",
          "model_name": "SliderStyleModel",
          "state": {
            "_view_name": "StyleView",
            "handle_color": null,
            "_model_name": "SliderStyleModel",
            "description_width": "",
            "_view_module": "@jupyter-widgets/base",
            "_model_module_version": "1.5.0",
            "_view_count": null,
            "_view_module_version": "1.2.0",
            "_model_module": "@jupyter-widgets/controls"
          },
          "model_module_version": "1.5.0"
        },
        "a8e9700ab99247979d2d2bae4a395740": {
          "model_module": "@jupyter-widgets/base",
          "model_name": "LayoutModel",
          "state": {
            "_view_name": "LayoutView",
            "grid_template_rows": null,
            "right": null,
            "justify_content": null,
            "_view_module": "@jupyter-widgets/base",
            "overflow": null,
            "_model_module_version": "1.2.0",
            "_view_count": null,
            "flex_flow": null,
            "width": null,
            "min_width": null,
            "border": null,
            "align_items": null,
            "bottom": null,
            "_model_module": "@jupyter-widgets/base",
            "top": null,
            "grid_column": null,
            "overflow_y": null,
            "overflow_x": null,
            "grid_auto_flow": null,
            "grid_area": null,
            "grid_template_columns": null,
            "flex": null,
            "_model_name": "LayoutModel",
            "justify_items": null,
            "grid_row": null,
            "max_height": null,
            "align_content": null,
            "visibility": null,
            "align_self": null,
            "height": null,
            "min_height": null,
            "padding": null,
            "grid_auto_rows": null,
            "grid_gap": null,
            "max_width": null,
            "order": null,
            "_view_module_version": "1.2.0",
            "grid_template_areas": null,
            "object_position": null,
            "object_fit": null,
            "grid_auto_columns": null,
            "margin": null,
            "display": null,
            "left": null
          },
          "model_module_version": "1.2.0"
        },
        "41226efc93d94fb6b99bf7a758e75ddd": {
          "model_module": "@jupyter-widgets/base",
          "model_name": "LayoutModel",
          "state": {
            "_view_name": "LayoutView",
            "grid_template_rows": null,
            "right": null,
            "justify_content": null,
            "_view_module": "@jupyter-widgets/base",
            "overflow": null,
            "_model_module_version": "1.2.0",
            "_view_count": null,
            "flex_flow": null,
            "width": null,
            "min_width": null,
            "border": null,
            "align_items": null,
            "bottom": null,
            "_model_module": "@jupyter-widgets/base",
            "top": null,
            "grid_column": null,
            "overflow_y": null,
            "overflow_x": null,
            "grid_auto_flow": null,
            "grid_area": null,
            "grid_template_columns": null,
            "flex": null,
            "_model_name": "LayoutModel",
            "justify_items": null,
            "grid_row": null,
            "max_height": null,
            "align_content": null,
            "visibility": null,
            "align_self": null,
            "height": null,
            "min_height": null,
            "padding": null,
            "grid_auto_rows": null,
            "grid_gap": null,
            "max_width": null,
            "order": null,
            "_view_module_version": "1.2.0",
            "grid_template_areas": null,
            "object_position": null,
            "object_fit": null,
            "grid_auto_columns": null,
            "margin": null,
            "display": null,
            "left": null
          },
          "model_module_version": "1.2.0"
        },
        "9457290fec074d59b5f39c881b5a5522": {
          "model_module": "@jupyter-widgets/controls",
          "model_name": "VBoxModel",
          "state": {
            "_view_name": "VBoxView",
            "_dom_classes": [
              "widget-interact"
            ],
            "_model_name": "VBoxModel",
            "_view_module": "@jupyter-widgets/controls",
            "_model_module_version": "1.5.0",
            "_view_count": null,
            "_view_module_version": "1.5.0",
            "box_style": "",
            "layout": "IPY_MODEL_0a66985deca64d049e4df85dbde8b727",
            "_model_module": "@jupyter-widgets/controls",
            "children": [
              "IPY_MODEL_12617deea1c04d87a11f83e9b911a150",
              "IPY_MODEL_38d11f630d9342548e16ef79a420d1aa"
            ]
          },
          "model_module_version": "1.5.0"
        },
        "0a66985deca64d049e4df85dbde8b727": {
          "model_module": "@jupyter-widgets/base",
          "model_name": "LayoutModel",
          "state": {
            "_view_name": "LayoutView",
            "grid_template_rows": null,
            "right": null,
            "justify_content": null,
            "_view_module": "@jupyter-widgets/base",
            "overflow": null,
            "_model_module_version": "1.2.0",
            "_view_count": null,
            "flex_flow": null,
            "width": null,
            "min_width": null,
            "border": null,
            "align_items": null,
            "bottom": null,
            "_model_module": "@jupyter-widgets/base",
            "top": null,
            "grid_column": null,
            "overflow_y": null,
            "overflow_x": null,
            "grid_auto_flow": null,
            "grid_area": null,
            "grid_template_columns": null,
            "flex": null,
            "_model_name": "LayoutModel",
            "justify_items": null,
            "grid_row": null,
            "max_height": null,
            "align_content": null,
            "visibility": null,
            "align_self": null,
            "height": null,
            "min_height": null,
            "padding": null,
            "grid_auto_rows": null,
            "grid_gap": null,
            "max_width": null,
            "order": null,
            "_view_module_version": "1.2.0",
            "grid_template_areas": null,
            "object_position": null,
            "object_fit": null,
            "grid_auto_columns": null,
            "margin": null,
            "display": null,
            "left": null
          },
          "model_module_version": "1.2.0"
        },
        "12617deea1c04d87a11f83e9b911a150": {
          "model_module": "@jupyter-widgets/controls",
          "model_name": "DropdownModel",
          "state": {
            "_options_labels": [
              "Red",
              "Blue",
              "Green"
            ],
            "_view_name": "DropdownView",
            "style": "IPY_MODEL_8ffca094876846d098231c5332619b78",
            "_dom_classes": [],
            "description": "color",
            "_model_name": "DropdownModel",
            "index": 0,
            "_view_module": "@jupyter-widgets/controls",
            "_model_module_version": "1.5.0",
            "_view_count": null,
            "disabled": false,
            "_view_module_version": "1.5.0",
            "description_tooltip": null,
            "_model_module": "@jupyter-widgets/controls",
            "layout": "IPY_MODEL_be3ed962a6574d818c8bbab1e3cb54df"
          },
          "model_module_version": "1.5.0"
        },
        "38d11f630d9342548e16ef79a420d1aa": {
          "model_module": "@jupyter-widgets/output",
          "model_name": "OutputModel",
          "state": {
            "_view_name": "OutputView",
            "msg_id": "",
            "_dom_classes": [],
            "_model_name": "OutputModel",
            "outputs": [
              {
                "output_type": "display_data",
                "metadata": {
                  "tags": [],
                  "needs_background": "light"
                },
                "image/png": "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\n",
                "text/plain": "<Figure size 432x288 with 1 Axes>"
              }
            ],
            "_view_module": "@jupyter-widgets/output",
            "_model_module_version": "1.0.0",
            "_view_count": null,
            "_view_module_version": "1.0.0",
            "layout": "IPY_MODEL_48fb70ff426b4446bdc876fbda5f2c78",
            "_model_module": "@jupyter-widgets/output"
          },
          "model_module_version": "1.0.0"
        },
        "8ffca094876846d098231c5332619b78": {
          "model_module": "@jupyter-widgets/controls",
          "model_name": "DescriptionStyleModel",
          "state": {
            "_view_name": "StyleView",
            "_model_name": "DescriptionStyleModel",
            "description_width": "",
            "_view_module": "@jupyter-widgets/base",
            "_model_module_version": "1.5.0",
            "_view_count": null,
            "_view_module_version": "1.2.0",
            "_model_module": "@jupyter-widgets/controls"
          },
          "model_module_version": "1.5.0"
        },
        "be3ed962a6574d818c8bbab1e3cb54df": {
          "model_module": "@jupyter-widgets/base",
          "model_name": "LayoutModel",
          "state": {
            "_view_name": "LayoutView",
            "grid_template_rows": null,
            "right": null,
            "justify_content": null,
            "_view_module": "@jupyter-widgets/base",
            "overflow": null,
            "_model_module_version": "1.2.0",
            "_view_count": null,
            "flex_flow": null,
            "width": null,
            "min_width": null,
            "border": null,
            "align_items": null,
            "bottom": null,
            "_model_module": "@jupyter-widgets/base",
            "top": null,
            "grid_column": null,
            "overflow_y": null,
            "overflow_x": null,
            "grid_auto_flow": null,
            "grid_area": null,
            "grid_template_columns": null,
            "flex": null,
            "_model_name": "LayoutModel",
            "justify_items": null,
            "grid_row": null,
            "max_height": null,
            "align_content": null,
            "visibility": null,
            "align_self": null,
            "height": null,
            "min_height": null,
            "padding": null,
            "grid_auto_rows": null,
            "grid_gap": null,
            "max_width": null,
            "order": null,
            "_view_module_version": "1.2.0",
            "grid_template_areas": null,
            "object_position": null,
            "object_fit": null,
            "grid_auto_columns": null,
            "margin": null,
            "display": null,
            "left": null
          },
          "model_module_version": "1.2.0"
        },
        "48fb70ff426b4446bdc876fbda5f2c78": {
          "model_module": "@jupyter-widgets/base",
          "model_name": "LayoutModel",
          "state": {
            "_view_name": "LayoutView",
            "grid_template_rows": null,
            "right": null,
            "justify_content": null,
            "_view_module": "@jupyter-widgets/base",
            "overflow": null,
            "_model_module_version": "1.2.0",
            "_view_count": null,
            "flex_flow": null,
            "width": null,
            "min_width": null,
            "border": null,
            "align_items": null,
            "bottom": null,
            "_model_module": "@jupyter-widgets/base",
            "top": null,
            "grid_column": null,
            "overflow_y": null,
            "overflow_x": null,
            "grid_auto_flow": null,
            "grid_area": null,
            "grid_template_columns": null,
            "flex": null,
            "_model_name": "LayoutModel",
            "justify_items": null,
            "grid_row": null,
            "max_height": null,
            "align_content": null,
            "visibility": null,
            "align_self": null,
            "height": null,
            "min_height": null,
            "padding": null,
            "grid_auto_rows": null,
            "grid_gap": null,
            "max_width": null,
            "order": null,
            "_view_module_version": "1.2.0",
            "grid_template_areas": null,
            "object_position": null,
            "object_fit": null,
            "grid_auto_columns": null,
            "margin": null,
            "display": null,
            "left": null
          },
          "model_module_version": "1.2.0"
        },
        "a0cc4725dc434013930ecfad789fc980": {
          "model_module": "@jupyter-widgets/controls",
          "model_name": "VBoxModel",
          "state": {
            "_view_name": "VBoxView",
            "_dom_classes": [
              "widget-interact"
            ],
            "_model_name": "VBoxModel",
            "_view_module": "@jupyter-widgets/controls",
            "_model_module_version": "1.5.0",
            "_view_count": null,
            "_view_module_version": "1.5.0",
            "box_style": "",
            "layout": "IPY_MODEL_806046deb3734f23a54a8e499a1575f9",
            "_model_module": "@jupyter-widgets/controls",
            "children": [
              "IPY_MODEL_4b46d51759ad4d5c81690c5814d8166b",
              "IPY_MODEL_45fc77d19324446e9a4cf80285ee3c8e"
            ]
          },
          "model_module_version": "1.5.0"
        },
        "806046deb3734f23a54a8e499a1575f9": {
          "model_module": "@jupyter-widgets/base",
          "model_name": "LayoutModel",
          "state": {
            "_view_name": "LayoutView",
            "grid_template_rows": null,
            "right": null,
            "justify_content": null,
            "_view_module": "@jupyter-widgets/base",
            "overflow": null,
            "_model_module_version": "1.2.0",
            "_view_count": null,
            "flex_flow": null,
            "width": null,
            "min_width": null,
            "border": null,
            "align_items": null,
            "bottom": null,
            "_model_module": "@jupyter-widgets/base",
            "top": null,
            "grid_column": null,
            "overflow_y": null,
            "overflow_x": null,
            "grid_auto_flow": null,
            "grid_area": null,
            "grid_template_columns": null,
            "flex": null,
            "_model_name": "LayoutModel",
            "justify_items": null,
            "grid_row": null,
            "max_height": null,
            "align_content": null,
            "visibility": null,
            "align_self": null,
            "height": null,
            "min_height": null,
            "padding": null,
            "grid_auto_rows": null,
            "grid_gap": null,
            "max_width": null,
            "order": null,
            "_view_module_version": "1.2.0",
            "grid_template_areas": null,
            "object_position": null,
            "object_fit": null,
            "grid_auto_columns": null,
            "margin": null,
            "display": null,
            "left": null
          },
          "model_module_version": "1.2.0"
        },
        "4b46d51759ad4d5c81690c5814d8166b": {
          "model_module": "@jupyter-widgets/controls",
          "model_name": "DropdownModel",
          "state": {
            "_options_labels": [
              "One",
              "Two",
              "Three"
            ],
            "_view_name": "DropdownView",
            "style": "IPY_MODEL_4aa25af06e934644bae2782542d16079",
            "_dom_classes": [],
            "description": "b",
            "_model_name": "DropdownModel",
            "index": 2,
            "_view_module": "@jupyter-widgets/controls",
            "_model_module_version": "1.5.0",
            "_view_count": null,
            "disabled": false,
            "_view_module_version": "1.5.0",
            "description_tooltip": null,
            "_model_module": "@jupyter-widgets/controls",
            "layout": "IPY_MODEL_bbae77a1df0e4d24ab041776eb7c7ed8"
          },
          "model_module_version": "1.5.0"
        },
        "45fc77d19324446e9a4cf80285ee3c8e": {
          "model_module": "@jupyter-widgets/output",
          "model_name": "OutputModel",
          "state": {
            "_view_name": "OutputView",
            "msg_id": "",
            "_dom_classes": [],
            "_model_name": "OutputModel",
            "outputs": [
              {
                "output_type": "display_data",
                "metadata": {
                  "tags": [],
                  "needs_background": "light"
                },
                "image/png": "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\n",
                "text/plain": "<Figure size 432x288 with 1 Axes>"
              }
            ],
            "_view_module": "@jupyter-widgets/output",
            "_model_module_version": "1.0.0",
            "_view_count": null,
            "_view_module_version": "1.0.0",
            "layout": "IPY_MODEL_c807ba4f56cc4edbbfa2c89176287fab",
            "_model_module": "@jupyter-widgets/output"
          },
          "model_module_version": "1.0.0"
        },
        "4aa25af06e934644bae2782542d16079": {
          "model_module": "@jupyter-widgets/controls",
          "model_name": "DescriptionStyleModel",
          "state": {
            "_view_name": "StyleView",
            "_model_name": "DescriptionStyleModel",
            "description_width": "",
            "_view_module": "@jupyter-widgets/base",
            "_model_module_version": "1.5.0",
            "_view_count": null,
            "_view_module_version": "1.2.0",
            "_model_module": "@jupyter-widgets/controls"
          },
          "model_module_version": "1.5.0"
        },
        "bbae77a1df0e4d24ab041776eb7c7ed8": {
          "model_module": "@jupyter-widgets/base",
          "model_name": "LayoutModel",
          "state": {
            "_view_name": "LayoutView",
            "grid_template_rows": null,
            "right": null,
            "justify_content": null,
            "_view_module": "@jupyter-widgets/base",
            "overflow": null,
            "_model_module_version": "1.2.0",
            "_view_count": null,
            "flex_flow": null,
            "width": null,
            "min_width": null,
            "border": null,
            "align_items": null,
            "bottom": null,
            "_model_module": "@jupyter-widgets/base",
            "top": null,
            "grid_column": null,
            "overflow_y": null,
            "overflow_x": null,
            "grid_auto_flow": null,
            "grid_area": null,
            "grid_template_columns": null,
            "flex": null,
            "_model_name": "LayoutModel",
            "justify_items": null,
            "grid_row": null,
            "max_height": null,
            "align_content": null,
            "visibility": null,
            "align_self": null,
            "height": null,
            "min_height": null,
            "padding": null,
            "grid_auto_rows": null,
            "grid_gap": null,
            "max_width": null,
            "order": null,
            "_view_module_version": "1.2.0",
            "grid_template_areas": null,
            "object_position": null,
            "object_fit": null,
            "grid_auto_columns": null,
            "margin": null,
            "display": null,
            "left": null
          },
          "model_module_version": "1.2.0"
        },
        "c807ba4f56cc4edbbfa2c89176287fab": {
          "model_module": "@jupyter-widgets/base",
          "model_name": "LayoutModel",
          "state": {
            "_view_name": "LayoutView",
            "grid_template_rows": null,
            "right": null,
            "justify_content": null,
            "_view_module": "@jupyter-widgets/base",
            "overflow": null,
            "_model_module_version": "1.2.0",
            "_view_count": null,
            "flex_flow": null,
            "width": null,
            "min_width": null,
            "border": null,
            "align_items": null,
            "bottom": null,
            "_model_module": "@jupyter-widgets/base",
            "top": null,
            "grid_column": null,
            "overflow_y": null,
            "overflow_x": null,
            "grid_auto_flow": null,
            "grid_area": null,
            "grid_template_columns": null,
            "flex": null,
            "_model_name": "LayoutModel",
            "justify_items": null,
            "grid_row": null,
            "max_height": null,
            "align_content": null,
            "visibility": null,
            "align_self": null,
            "height": null,
            "min_height": null,
            "padding": null,
            "grid_auto_rows": null,
            "grid_gap": null,
            "max_width": null,
            "order": null,
            "_view_module_version": "1.2.0",
            "grid_template_areas": null,
            "object_position": null,
            "object_fit": null,
            "grid_auto_columns": null,
            "margin": null,
            "display": null,
            "left": null
          },
          "model_module_version": "1.2.0"
        },
        "d02ed34df5ed4f42951dd4fa2fcbc8c6": {
          "model_module": "@jupyter-widgets/controls",
          "model_name": "VBoxModel",
          "state": {
            "_view_name": "VBoxView",
            "_dom_classes": [
              "widget-interact"
            ],
            "_model_name": "VBoxModel",
            "_view_module": "@jupyter-widgets/controls",
            "_model_module_version": "1.5.0",
            "_view_count": null,
            "_view_module_version": "1.5.0",
            "box_style": "",
            "layout": "IPY_MODEL_9dfacf9f5a564f4fac78c1b3f9b2a314",
            "_model_module": "@jupyter-widgets/controls",
            "children": [
              "IPY_MODEL_ae7a861b584a45daa0851d6d0bb8f27a",
              "IPY_MODEL_d27edc8d0f294c19a40f87c8984210dc"
            ]
          },
          "model_module_version": "1.5.0"
        },
        "9dfacf9f5a564f4fac78c1b3f9b2a314": {
          "model_module": "@jupyter-widgets/base",
          "model_name": "LayoutModel",
          "state": {
            "_view_name": "LayoutView",
            "grid_template_rows": null,
            "right": null,
            "justify_content": null,
            "_view_module": "@jupyter-widgets/base",
            "overflow": null,
            "_model_module_version": "1.2.0",
            "_view_count": null,
            "flex_flow": null,
            "width": null,
            "min_width": null,
            "border": null,
            "align_items": null,
            "bottom": null,
            "_model_module": "@jupyter-widgets/base",
            "top": null,
            "grid_column": null,
            "overflow_y": null,
            "overflow_x": null,
            "grid_auto_flow": null,
            "grid_area": null,
            "grid_template_columns": null,
            "flex": null,
            "_model_name": "LayoutModel",
            "justify_items": null,
            "grid_row": null,
            "max_height": null,
            "align_content": null,
            "visibility": null,
            "align_self": null,
            "height": null,
            "min_height": null,
            "padding": null,
            "grid_auto_rows": null,
            "grid_gap": null,
            "max_width": null,
            "order": null,
            "_view_module_version": "1.2.0",
            "grid_template_areas": null,
            "object_position": null,
            "object_fit": null,
            "grid_auto_columns": null,
            "margin": null,
            "display": null,
            "left": null
          },
          "model_module_version": "1.2.0"
        },
        "ae7a861b584a45daa0851d6d0bb8f27a": {
          "model_module": "@jupyter-widgets/controls",
          "model_name": "DropdownModel",
          "state": {
            "_options_labels": [
              "Vermelho",
              "Azul",
              "Verde"
            ],
            "_view_name": "DropdownView",
            "style": "IPY_MODEL_a8143878c4494f13a8016fa0de2b04a3",
            "_dom_classes": [],
            "description": "color",
            "_model_name": "DropdownModel",
            "index": 2,
            "_view_module": "@jupyter-widgets/controls",
            "_model_module_version": "1.5.0",
            "_view_count": null,
            "disabled": false,
            "_view_module_version": "1.5.0",
            "description_tooltip": null,
            "_model_module": "@jupyter-widgets/controls",
            "layout": "IPY_MODEL_cb504c14dce14119acaaef9db06cc128"
          },
          "model_module_version": "1.5.0"
        },
        "d27edc8d0f294c19a40f87c8984210dc": {
          "model_module": "@jupyter-widgets/output",
          "model_name": "OutputModel",
          "state": {
            "_view_name": "OutputView",
            "msg_id": "",
            "_dom_classes": [],
            "_model_name": "OutputModel",
            "outputs": [
              {
                "output_type": "display_data",
                "metadata": {
                  "tags": [],
                  "needs_background": "light"
                },
                "image/png": "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\n",
                "text/plain": "<Figure size 432x288 with 1 Axes>"
              }
            ],
            "_view_module": "@jupyter-widgets/output",
            "_model_module_version": "1.0.0",
            "_view_count": null,
            "_view_module_version": "1.0.0",
            "layout": "IPY_MODEL_45dbc15c2af14455bc42803788ad33d6",
            "_model_module": "@jupyter-widgets/output"
          },
          "model_module_version": "1.0.0"
        },
        "a8143878c4494f13a8016fa0de2b04a3": {
          "model_module": "@jupyter-widgets/controls",
          "model_name": "DescriptionStyleModel",
          "state": {
            "_view_name": "StyleView",
            "_model_name": "DescriptionStyleModel",
            "description_width": "",
            "_view_module": "@jupyter-widgets/base",
            "_model_module_version": "1.5.0",
            "_view_count": null,
            "_view_module_version": "1.2.0",
            "_model_module": "@jupyter-widgets/controls"
          },
          "model_module_version": "1.5.0"
        },
        "cb504c14dce14119acaaef9db06cc128": {
          "model_module": "@jupyter-widgets/base",
          "model_name": "LayoutModel",
          "state": {
            "_view_name": "LayoutView",
            "grid_template_rows": null,
            "right": null,
            "justify_content": null,
            "_view_module": "@jupyter-widgets/base",
            "overflow": null,
            "_model_module_version": "1.2.0",
            "_view_count": null,
            "flex_flow": null,
            "width": null,
            "min_width": null,
            "border": null,
            "align_items": null,
            "bottom": null,
            "_model_module": "@jupyter-widgets/base",
            "top": null,
            "grid_column": null,
            "overflow_y": null,
            "overflow_x": null,
            "grid_auto_flow": null,
            "grid_area": null,
            "grid_template_columns": null,
            "flex": null,
            "_model_name": "LayoutModel",
            "justify_items": null,
            "grid_row": null,
            "max_height": null,
            "align_content": null,
            "visibility": null,
            "align_self": null,
            "height": null,
            "min_height": null,
            "padding": null,
            "grid_auto_rows": null,
            "grid_gap": null,
            "max_width": null,
            "order": null,
            "_view_module_version": "1.2.0",
            "grid_template_areas": null,
            "object_position": null,
            "object_fit": null,
            "grid_auto_columns": null,
            "margin": null,
            "display": null,
            "left": null
          },
          "model_module_version": "1.2.0"
        },
        "45dbc15c2af14455bc42803788ad33d6": {
          "model_module": "@jupyter-widgets/base",
          "model_name": "LayoutModel",
          "state": {
            "_view_name": "LayoutView",
            "grid_template_rows": null,
            "right": null,
            "justify_content": null,
            "_view_module": "@jupyter-widgets/base",
            "overflow": null,
            "_model_module_version": "1.2.0",
            "_view_count": null,
            "flex_flow": null,
            "width": null,
            "min_width": null,
            "border": null,
            "align_items": null,
            "bottom": null,
            "_model_module": "@jupyter-widgets/base",
            "top": null,
            "grid_column": null,
            "overflow_y": null,
            "overflow_x": null,
            "grid_auto_flow": null,
            "grid_area": null,
            "grid_template_columns": null,
            "flex": null,
            "_model_name": "LayoutModel",
            "justify_items": null,
            "grid_row": null,
            "max_height": null,
            "align_content": null,
            "visibility": null,
            "align_self": null,
            "height": null,
            "min_height": null,
            "padding": null,
            "grid_auto_rows": null,
            "grid_gap": null,
            "max_width": null,
            "order": null,
            "_view_module_version": "1.2.0",
            "grid_template_areas": null,
            "object_position": null,
            "object_fit": null,
            "grid_auto_columns": null,
            "margin": null,
            "display": null,
            "left": null
          },
          "model_module_version": "1.2.0"
        }
      }
    }
  },
  "cells": [
    {
      "cell_type": "markdown",
      "metadata": {
        "id": "view-in-github",
        "colab_type": "text"
      },
      "source": [
        "<a href=\"https://colab.research.google.com/github/LUCAS-01SANTOS/Notebooks-Colab/blob/main/Data_Viz_Interactive_Plots.ipynb\" target=\"_parent\"><img src=\"https://colab.research.google.com/assets/colab-badge.svg\" alt=\"Open In Colab\"/></a>"
      ]
    },
    {
      "cell_type": "markdown",
      "metadata": {
        "id": "a7SHMHbKBkoQ"
      },
      "source": [
        "<img alt=\"Colaboratory logo\" width=\"15%\" src=\"https://raw.githubusercontent.com/carlosfab/escola-data-science/master/img/novo_logo_bg_claro.png\">\n",
        "\n",
        "#### **Visualizações de Dados com Python**\n",
        "*by [sigmoidal.ai](https://sigmoidal.ai)*\n",
        "\n",
        "---"
      ]
    },
    {
      "cell_type": "markdown",
      "metadata": {
        "id": "pqHp1Vk8Bpdy"
      },
      "source": [
        "Uma coisa muito interessante que podemos trazer para os nossos plots é a interatividade. Em muitos casos, ela pode ser essencial, e pode trazer resultados impressionantes para nosso projeto.\n",
        "\n",
        "Para isso, utilizaremos a biblioteca [ipywidgets](https://ipywidgets.readthedocs.io/en/latest/).\n",
        "\n",
        "\n",
        "O framework dos widgets é construído no *Comm Framework* (abreviação para comunicação, em inglês). O *Comm Framework* é um framework que permite que o kernel envie e receba mensagens em JSON do front end.\n",
        "\n",
        "<center><img src=\"https://ipywidgets.readthedocs.io/en/latest/_images/WidgetArch.png\" height=\"400px\"></center>\n",
        "\n",
        "A função `interact` (ipywidgets.interact) automaticamente cria uma interface de usuário com controles para explorar o código e os dados interativamente. Esse é o jeito mais fácil de começar widgets do IPython.\n",
        "\n",
        "No nível mais básico, o `interact` cria automaticamente um interface de usuário que controla os argumentos de uma função, e então chama a função com aqueles argumentos que você selecionou\u0010 através da UI.\n",
        "\n",
        "Portanto, para usar o `interact` você precisa definir uma função que queira explorar.\n",
        "\n",
        "<center><img src=\"https://ipywidgets.readthedocs.io/en/stable/_images/WidgetModelView.png\" height=\"400px\"></center>\n",
        "\n",
        "Para cada tipo de argumento passado para função, um tipo apropriado de widget é criado para fazer a interação, podendo ser um checkbox, slider, dropdown menu, etc.\n",
        "\n",
        "Vamos ver como isso funciona na prática."
      ]
    },
    {
      "cell_type": "code",
      "metadata": {
        "id": "S8JpsMStZqV8"
      },
      "source": [
        "# instalando o pacote\n",
        "!pip install ipywidgets -q"
      ],
      "execution_count": null,
      "outputs": []
    },
    {
      "cell_type": "markdown",
      "metadata": {
        "id": "7cTfM0FnGNfw"
      },
      "source": [
        "A documentação instrui que o código abaixo seja utilizado para que essas interações estejam disponíveis em Jupyter Notebooks. Entretanto, no Colab isso não é necessário. Caso você vá realizar esse tipo de plot em um Noteb\u0010ook local, utilize a função abaixo, e tome por referência a documentação, em tudo que diferir de lá nesse notebook."
      ]
    },
    {
      "cell_type": "code",
      "metadata": {
        "id": "3nT3EFibZ1A3"
      },
      "source": [
        "# jupyter nbextension enable --py widgetsnbextension"
      ],
      "execution_count": null,
      "outputs": []
    },
    {
      "cell_type": "markdown",
      "metadata": {
        "id": "UG1UmxnnGgYE"
      },
      "source": [
        "Uma vez instalados, precisamos importar os pacotes. Aqui, importaremos algumas funções específicas do pacote, e o pacote inteiro, para facilitar nosso código."
      ]
    },
    {
      "cell_type": "code",
      "metadata": {
        "id": "TQ-tvm4qZ7d3"
      },
      "source": [
        "# importando os pacotes necessários\n",
        "import numpy as np\n",
        "import pandas as pd\n",
        "import matplotlib.pyplot as plt\n",
        "from ipywidgets import interact, fixed, interact_manual\n",
        "import ipywidgets as widgets"
      ],
      "execution_count": null,
      "outputs": []
    },
    {
      "cell_type": "markdown",
      "metadata": {
        "id": "MSbV3a2XGttd"
      },
      "source": [
        "Abaixo, vamos criar uma função normal. Aqui, podemos ver que ao chamar a função, passamos um parâmetro, que tomará o lugar de x. Podemos alterar esse valor, e rodar a função novamente, modificando o plot.\n",
        "\n",
        "Mas, com o `ipywidgets` nós conseguimos tornar esse processo mais fácil, por meio de uma UI interativa."
      ]
    },
    {
      "cell_type": "code",
      "metadata": {
        "colab": {
          "base_uri": "https://localhost:8080/",
          "height": 269
        },
        "id": "4rHIUEdrd0VV",
        "outputId": "cef807e4-c357-4256-c2e5-7919c9085c41"
      },
      "source": [
        "# criando uma função\n",
        "def f(x):\n",
        "  plt.plot(np.arange(0,10), x*np.arange(0,10))\n",
        "  plt.ylim(-30,30)\n",
        "f(0)"
      ],
      "execution_count": null,
      "outputs": [
        {
          "output_type": "display_data",
          "data": {
            "image/png": "[encoded data removed]",
            "text/plain": [
              "<Figure size 432x288 with 1 Axes>"
            ]
          },
          "metadata": {
            "tags": [],
            "needs_background": "light"
          }
        }
      ]
    },
    {
      "cell_type": "markdown",
      "metadata": {
        "id": "gLKyMt2DG9VO"
      },
      "source": [
        "Para isso, vamos chamar a função que definimos anteriormente dentro da função interact do `ipywidget`.\n",
        "\n",
        "Vamos passar como argumento a função, e o range de parâmetros que x pode assumir. O primeiro valor será o mínimo, o segundo o máximo, e o terceiro seria nosso step.\n",
        "\n",
        "Com tudo definido, basta rodar e utilizar o slider criado. A biblioteca usar um slider, pois vê que estamos utilizando um `int`, então, entende que essa seria a melhor UI para o caso."
      ]
    },
    {
      "cell_type": "code",
      "metadata": {
        "colab": {
          "base_uri": "https://localhost:8080/",
          "height": 318,
          "referenced_widgets": [
            "4d4bfc88ac104c25ae1dc9a62f00ae2e",
            "2913f502dcbe4cdaa8a01f932780d4e6",
            "aa9c69078a8e43dd9d2ac84a1a1dd33d",
            "f3a68ef97e794f41b64071e525c16d1f",
            "d1e11594b6e24c4ca609fb95b69094e6",
            "9c55cd9c900d4e7db8dc12b6b8394176",
            "0ae2de9ac168489488829d7fc6ed71db"
          ]
        },
        "id": "m8HgWsrFjWQx",
        "outputId": "5214a4ce-6689-4b25-f9cf-53fcd4744f1b"
      },
      "source": [
        "# muda o slope, sabendo que é um integer, ele sabe que é slider\n",
        "def f(x):\n",
        "  plt.plot(np.arange(0,10), x*np.arange(0,10))\n",
        "  plt.ylim(-30,30)\n",
        "interact(f, x=(-5,10,0.5))\n"
      ],
      "execution_count": null,
      "outputs": [
        {
          "output_type": "display_data",
          "data": {
            "application/vnd.jupyter.widget-view+json": {
              "model_id": "4d4bfc88ac104c25ae1dc9a62f00ae2e",
              "version_minor": 0,
              "version_major": 2
            },
            "text/plain": [
              "interactive(children=(FloatSlider(value=2.0, description='x', max=10.0, min=-5.0, step=0.5), Output()), _dom_c…"
            ]
          },
          "metadata": {
            "tags": []
          }
        },
        {
          "output_type": "execute_result",
          "data": {
            "text/plain": [
              "<function __main__.f>"
            ]
          },
          "metadata": {
            "tags": []
          },
          "execution_count": 45
        }
      ]
    },
    {
      "cell_type": "markdown",
      "metadata": {
        "id": "Ungnx_hzHal2"
      },
      "source": [
        "Se passarmos um `bool` como parâmetro para x, dentro do interact, ao invés de um slider, teremos um checkbox, onde a caixa preenchida seria True, e não preenchida, False."
      ]
    },
    {
      "cell_type": "code",
      "metadata": {
        "colab": {
          "base_uri": "https://localhost:8080/",
          "height": 314,
          "referenced_widgets": [
            "c9b3e2ea2a5e41f8870e82e91a6e163d",
            "fb689bbaebf54cc398ec630573964e8d",
            "dff5a9ac8d5440f9b1bb040d0257d40b",
            "d9ae5ac83774444e87c42b102d7aa54d",
            "a8bea43e993645b5a6de11136eae9b73",
            "b35a66bbb2004b99a72b44fce45253f5",
            "c4fa6c93786b474987eb47992f564b5d"
          ]
        },
        "id": "m6GcZA3vjaKw",
        "outputId": "f5233363-e17b-4256-9c67-6b5f3bb5482e"
      },
      "source": [
        "# checkbox para booleanos#\n",
        "rands = np.random.rand(100)\n",
        "def f(x):\n",
        "  if x:\n",
        "    plt.plot(rands, 'b')\n",
        "  else:\n",
        "    plt.plot(rands, 'r')\n",
        "interact(f, x=True)"
      ],
      "execution_count": null,
      "outputs": [
        {
          "output_type": "display_data",
          "data": {
            "application/vnd.jupyter.widget-view+json": {
              "model_id": "c9b3e2ea2a5e41f8870e82e91a6e163d",
              "version_minor": 0,
              "version_major": 2
            },
            "text/plain": [
              "interactive(children=(Checkbox(value=True, description='x'), Output()), _dom_classes=('widget-interact',))"
            ]
          },
          "metadata": {
            "tags": []
          }
        },
        {
          "output_type": "execute_result",
          "data": {
            "text/plain": [
              "<function __main__.f>"
            ]
          },
          "metadata": {
            "tags": []
          },
          "execution_count": 46
        }
      ]
    },
    {
      "cell_type": "markdown",
      "metadata": {
        "id": "skI4ZJGgHkRQ"
      },
      "source": [
        "Pordemos também passar um `decorator`, algo que vai servir como decorador para o nosso plot. Nesse caso, queremos modificar o nome do título do plot, por exemplo."
      ]
    },
    {
      "cell_type": "code",
      "metadata": {
        "colab": {
          "base_uri": "https://localhost:8080/",
          "height": 314,
          "referenced_widgets": [
            "934e2a112ee24009bf06d407bac99b1a",
            "2aeefec669784949905285328da40591",
            "a37ef49af585484f8e9630b63c37f9fa",
            "c3d380fd2f3a450da096c3482ead7ed6",
            "5eb4fc1db7b04389bfca203881607fad",
            "7e6df0644a07482098c9d66f2bc0d5e4",
            "68183f3654114171906042ddd2284485"
          ]
        },
        "id": "f9otkKkVxM_a",
        "outputId": "615551f4-2f6b-4b51-b921-c573ddb599ea"
      },
      "source": [
        "# decorator. Identifica a string e entrega um text box\n",
        "\n",
        "@interact(x='Sigmoidal')\n",
        "def f(x):\n",
        "  plt.title(x)\n"
      ],
      "execution_count": null,
      "outputs": [
        {
          "output_type": "display_data",
          "data": {
            "application/vnd.jupyter.widget-view+json": {
              "model_id": "934e2a112ee24009bf06d407bac99b1a",
              "version_minor": 0,
              "version_major": 2
            },
            "text/plain": [
              "interactive(children=(Text(value='Sigmoidal', description='x'), Output()), _dom_classes=('widget-interact',))"
            ]
          },
          "metadata": {
            "tags": []
          }
        }
      ]
    },
    {
      "cell_type": "markdown",
      "metadata": {
        "id": "0xY9p-EeHwya"
      },
      "source": [
        "Também é importante ressaltar que não estamos presos a apenas um widget por plot. Basta fazer as mudanças na função, e passar os parâmetros no interact.\n",
        "\n",
        "Aqui mostramos também que ele define um range e um step automaticamente, mas você também pode escolher passar como mostramos nos exemplos anteriores."
      ]
    },
    {
      "cell_type": "code",
      "metadata": {
        "colab": {
          "base_uri": "https://localhost:8080/",
          "height": 366,
          "referenced_widgets": [
            "6545caafbc654d95ac3a3a6a54c73368",
            "6e006c07cce2487d91a6b11d9eb4d47a",
            "2d6c453b167146cbbcff2fcce65404ae",
            "555aded0bdaf40a89cac93059ff75b6c",
            "18ab8f05c71544018d86535acbe65153",
            "6e9d18fd86e445da8fce1fa198a11b9e",
            "cb69abf6c7264fa384d5ef01b863379b",
            "0adfa7a6e1234e5da842a0173ff301cc",
            "4ee3ee7b0479499797d6b41e7135737c",
            "a80a1b5d7d1d4b03b97249f321b7483c"
          ]
        },
        "id": "s3Gv9pAhxqfX",
        "outputId": "bd3de759-68a9-47cc-f697-7570d65cc34b"
      },
      "source": [
        "# multiplos widgets\n",
        "def f(a,b):\n",
        "  plt.plot(np.arange(0,10), a*np.power(np.arange(0,10), b))\n",
        "  plt.title(\"Lei de Potência: $x=ay^b$\")\n",
        "interact(f, a=1, b=3)"
      ],
      "execution_count": null,
      "outputs": [
        {
          "output_type": "display_data",
          "data": {
            "application/vnd.jupyter.widget-view+json": {
              "model_id": "6545caafbc654d95ac3a3a6a54c73368",
              "version_minor": 0,
              "version_major": 2
            },
            "text/plain": [
              "interactive(children=(IntSlider(value=1, description='a', max=3, min=-1), IntSlider(value=3, description='b', …"
            ]
          },
          "metadata": {
            "tags": []
          }
        },
        {
          "output_type": "execute_result",
          "data": {
            "text/plain": [
              "<function __main__.f>"
            ]
          },
          "metadata": {
            "tags": []
          },
          "execution_count": 48
        }
      ]
    },
    {
      "cell_type": "markdown",
      "metadata": {
        "id": "g2a3geNVJQeG"
      },
      "source": [
        "Se a personalização é importante, ter valores fixos também pode ser.\n",
        "\n"
      ]
    },
    {
      "cell_type": "code",
      "metadata": {
        "colab": {
          "base_uri": "https://localhost:8080/",
          "height": 334,
          "referenced_widgets": [
            "dc9cd3a65a7c43bf8f440f93185dc2eb",
            "d5666809748e46c59473976701ed83f1",
            "7f77094c646e4daeae3fe0e1e8e6299d",
            "8540822b1473498e88af36a996695b3e",
            "2177aa9bb83f4ce3a216fbd3f1f456e0",
            "1d48e6e24233453ca8c14000098c74b9",
            "b7aafbc1eb084666834a75668cce0722"
          ]
        },
        "id": "IQtvGEdPyUN6",
        "outputId": "8dce3629-6454-4e69-c110-3a7635dab86e"
      },
      "source": [
        "# valores fixos\n",
        "def f(a,b):\n",
        "  plt.plot(np.arange(0,10), a*np.power(np.arange(0,10), b))\n",
        "  plt.title(\"Lei da Potência: $x=ay^b$\")\n",
        "interact(f, a=1, b=fixed(2))"
      ],
      "execution_count": null,
      "outputs": [
        {
          "output_type": "display_data",
          "data": {
            "application/vnd.jupyter.widget-view+json": {
              "model_id": "dc9cd3a65a7c43bf8f440f93185dc2eb",
              "version_minor": 0,
              "version_major": 2
            },
            "text/plain": [
              "interactive(children=(IntSlider(value=1, description='a', max=3, min=-1), Output()), _dom_classes=('widget-int…"
            ]
          },
          "metadata": {
            "tags": []
          }
        },
        {
          "output_type": "execute_result",
          "data": {
            "text/plain": [
              "<function __main__.f>"
            ]
          },
          "metadata": {
            "tags": []
          },
          "execution_count": 49
        }
      ]
    },
    {
      "cell_type": "code",
      "metadata": {
        "colab": {
          "base_uri": "https://localhost:8080/",
          "height": 334,
          "referenced_widgets": [
            "739963b0c48140689cba80498007f544",
            "de2f607895bd4e1e87a8d613b1c10771",
            "767cbe65b7ac4fdbb6704745c49f9954",
            "7dfe9110aacc4dfbaff6986d0f69fa01",
            "b9c4e7abf25f465085d0c9f311a420e7",
            "a8e9700ab99247979d2d2bae4a395740",
            "41226efc93d94fb6b99bf7a758e75ddd"
          ]
        },
        "id": "6NNYr9HbJV3w",
        "outputId": "d63dd3ea-4944-4331-ba29-4080984c429e"
      },
      "source": [
        "# valores fixos, mas com o b definido\n",
        "def f(a):\n",
        "  plt.plot(np.arange(0,10), a*np.power(np.arange(0,10), 2))\n",
        "  plt.title(\"Lei da Potência: $x=ay^b$\")\n",
        "interact(f, a=1)"
      ],
      "execution_count": null,
      "outputs": [
        {
          "output_type": "display_data",
          "data": {
            "application/vnd.jupyter.widget-view+json": {
              "model_id": "739963b0c48140689cba80498007f544",
              "version_minor": 0,
              "version_major": 2
            },
            "text/plain": [
              "interactive(children=(IntSlider(value=1, description='a', max=3, min=-1), Output()), _dom_classes=('widget-int…"
            ]
          },
          "metadata": {
            "tags": []
          }
        },
        {
          "output_type": "execute_result",
          "data": {
            "text/plain": [
              "<function __main__.f>"
            ]
          },
          "metadata": {
            "tags": []
          },
          "execution_count": 50
        }
      ]
    },
    {
      "cell_type": "markdown",
      "metadata": {
        "id": "EMG98VJaJnMR"
      },
      "source": [
        "Para criar um menu dropdown para as interações, basta passar uma lista como parâmetro.\n",
        "\n",
        "Aqui, a nossa função vai receber o parâmetro cor através do interact.\n",
        "\n",
        "A cor vai fazer parte de uma lista de cores, que vamos passar como parâmetro dentro da função do interact."
      ]
    },
    {
      "cell_type": "code",
      "metadata": {
        "colab": {
          "base_uri": "https://localhost:8080/",
          "height": 334,
          "referenced_widgets": [
            "9457290fec074d59b5f39c881b5a5522",
            "0a66985deca64d049e4df85dbde8b727",
            "12617deea1c04d87a11f83e9b911a150",
            "38d11f630d9342548e16ef79a420d1aa",
            "8ffca094876846d098231c5332619b78",
            "be3ed962a6574d818c8bbab1e3cb54df",
            "48fb70ff426b4446bdc876fbda5f2c78"
          ]
        },
        "id": "WD7t5zAx03ME",
        "outputId": "960e7db9-4ce2-4c71-8e2a-6365884dc879"
      },
      "source": [
        "# dropdown de listas\n",
        "\n",
        "def f(color):\n",
        "  plt.plot(np.arange(0,10), np.power(np.arange(0,10), 5), c=color)\n",
        "  plt.title(\"Lei da Potência: $x=ay^b$\")\n",
        "colors=['Red', 'Blue', 'Green']\n",
        "interact(f, color=colors)"
      ],
      "execution_count": null,
      "outputs": [
        {
          "output_type": "display_data",
          "data": {
            "application/vnd.jupyter.widget-view+json": {
              "model_id": "9457290fec074d59b5f39c881b5a5522",
              "version_minor": 0,
              "version_major": 2
            },
            "text/plain": [
              "interactive(children=(Dropdown(description='color', options=('Red', 'Blue', 'Green'), value='Red'), Output()),…"
            ]
          },
          "metadata": {
            "tags": []
          }
        },
        {
          "output_type": "execute_result",
          "data": {
            "text/plain": [
              "<function __main__.f>"
            ]
          },
          "metadata": {
            "tags": []
          },
          "execution_count": 51
        }
      ]
    },
    {
      "cell_type": "markdown",
      "metadata": {
        "id": "0FVwCtdTKBOD"
      },
      "source": [
        "Também é possível criar um dropdown com dicionários. Poderíamos, por exemplo, ter passado uam lista de ints, e modificaríamos o plot a partir de um dropdown, da mesma forma que faríamos com um slider.\n",
        "\n",
        "Mas e se quiséssimos escrever o nome do número e fazer com que a função receba o número como int? Dicionários!\n",
        "\n",
        "Passamos as opções do dropdown como chaves e os valores que a função irá receber como valores.\n",
        "\n",
        "Então é só passar o dicionário como parâmetro dentro do interact."
      ]
    },
    {
      "cell_type": "code",
      "metadata": {
        "colab": {
          "base_uri": "https://localhost:8080/",
          "height": 334,
          "referenced_widgets": [
            "a0cc4725dc434013930ecfad789fc980",
            "806046deb3734f23a54a8e499a1575f9",
            "4b46d51759ad4d5c81690c5814d8166b",
            "45fc77d19324446e9a4cf80285ee3c8e",
            "4aa25af06e934644bae2782542d16079",
            "bbae77a1df0e4d24ab041776eb7c7ed8",
            "c807ba4f56cc4edbbfa2c89176287fab"
          ]
        },
        "id": "wPSg6r5o1kIE",
        "outputId": "7800c6cf-8b33-42c7-f630-33cbc8add06c"
      },
      "source": [
        "# dropdown de dicionários \n",
        "\n",
        "def f(b):\n",
        "  plt.plot(np.arange(0,10), np.power(np.arange(0,10), b))\n",
        "  plt.title(\"Power Law: $x=ay^b$\")\n",
        "powers = {'One':1, 'Two':2, 'Three':3}\n",
        "interact(f, b=powers)"
      ],
      "execution_count": null,
      "outputs": [
        {
          "output_type": "display_data",
          "data": {
            "application/vnd.jupyter.widget-view+json": {
              "model_id": "a0cc4725dc434013930ecfad789fc980",
              "version_minor": 0,
              "version_major": 2
            },
            "text/plain": [
              "interactive(children=(Dropdown(description='b', options={'One': 1, 'Two': 2, 'Three': 3}, value=1), Output()),…"
            ]
          },
          "metadata": {
            "tags": []
          }
        },
        {
          "output_type": "execute_result",
          "data": {
            "text/plain": [
              "<function __main__.f>"
            ]
          },
          "metadata": {
            "tags": []
          },
          "execution_count": 52
        }
      ]
    },
    {
      "cell_type": "code",
      "metadata": {
        "id": "7SDpvPIk25Vh",
        "colab": {
          "base_uri": "https://localhost:8080/",
          "height": 334,
          "referenced_widgets": [
            "d02ed34df5ed4f42951dd4fa2fcbc8c6",
            "9dfacf9f5a564f4fac78c1b3f9b2a314",
            "ae7a861b584a45daa0851d6d0bb8f27a",
            "d27edc8d0f294c19a40f87c8984210dc",
            "a8143878c4494f13a8016fa0de2b04a3",
            "cb504c14dce14119acaaef9db06cc128",
            "45dbc15c2af14455bc42803788ad33d6"
          ]
        },
        "outputId": "f499c3ba-4c7d-4bba-da45-c2b4785afb2f"
      },
      "source": [
        "# dropdown de listas\n",
        "\n",
        "def f(color):\n",
        "  plt.plot(np.arange(0,10), np.power(np.arange(0,10), 5), c=color)\n",
        "  plt.title(\"Lei da Potência: $x=ay^b$\")\n",
        "colors={'Vermelho':'Red', 'Azul':'Blue', 'Verde':'Green'}\n",
        "interact(f, color=colors)"
      ],
      "execution_count": null,
      "outputs": [
        {
          "output_type": "display_data",
          "data": {
            "application/vnd.jupyter.widget-view+json": {
              "model_id": "d02ed34df5ed4f42951dd4fa2fcbc8c6",
              "version_minor": 0,
              "version_major": 2
            },
            "text/plain": [
              "interactive(children=(Dropdown(description='color', options={'Vermelho': 'Red', 'Azul': 'Blue', 'Verde': 'Gree…"
            ]
          },
          "metadata": {
            "tags": []
          }
        },
        {
          "output_type": "execute_result",
          "data": {
            "text/plain": [
              "<function __main__.f>"
            ]
          },
          "metadata": {
            "tags": []
          },
          "execution_count": 53
        }
      ]
    },
    {
      "cell_type": "code",
      "metadata": {
        "id": "ceneMeNJQHY2"
      },
      "source": [],
      "execution_count": null,
      "outputs": []
    }
  ]
}